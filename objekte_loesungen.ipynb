{
 "cells": [
  {
   "cell_type": "markdown",
   "metadata": {},
   "source": [
    "## Objekte und Klassen\n",
    "\n",
    "### Lösungen"
   ]
  },
  {
   "cell_type": "markdown",
   "metadata": {},
   "source": [
    "#### Aufgabe 2"
   ]
  },
  {
   "cell_type": "code",
   "execution_count": null,
   "metadata": {},
   "outputs": [],
   "source": [
    "#Mögliche Lösung\n",
    "class Tier:\n",
    "    def __init__(self, art, geraeusch):\n",
    "        self.art = art\n",
    "        self.geraeusch = geraeusch\n",
    "\n",
    "    def mach_geraeusch(self):\n",
    "        print(self.geraeusch)\n",
    "\n",
    "# Zum Testen\n",
    "bello = Tier(\"Hund\",\"Wau\")\n",
    "bello.mach_geraeusch()\n",
    "clara = Tier(\"Katze\",\"Miau\")\n",
    "clara.mach_geraeusch()"
   ]
  },
  {
   "cell_type": "markdown",
   "metadata": {},
   "source": [
    "#### Aufgabe 3"
   ]
  },
  {
   "cell_type": "code",
   "execution_count": null,
   "metadata": {},
   "outputs": [],
   "source": [
    "# Mögliche Lösung\n",
    "from random import randint\n",
    "\n",
    "\n",
    "class Wuerfel:\n",
    "\n",
    "    def wuerfeln(self):\n",
    "        return randint(1, 6)\n",
    "\n",
    "\n",
    "wuerfel = Wuerfel()\n",
    "wuerfel.wuerfeln()"
   ]
  },
  {
   "cell_type": "markdown",
   "metadata": {},
   "source": [
    "#### Aufgabe 4"
   ]
  },
  {
   "cell_type": "code",
   "execution_count": null,
   "metadata": {},
   "outputs": [],
   "source": [
    "# Mögliche Lösung\n",
    "from random import randint\n",
    "\n",
    "\n",
    "class Superwuerfel:\n",
    "\n",
    "    def __init__(self, n):\n",
    "        self.n = n\n",
    "\n",
    "    def wuerfeln(self):\n",
    "        return randint(1, self.n)\n",
    "\n",
    "\n",
    "superwuerfel = Superwuerfel(20)\n",
    "superwuerfel.wuerfeln()"
   ]
  },
  {
   "cell_type": "markdown",
   "metadata": {},
   "source": [
    "#### Aufgabe 5"
   ]
  },
  {
   "cell_type": "code",
   "execution_count": null,
   "metadata": {},
   "outputs": [],
   "source": [
    "# Mögliche Lösung\n",
    "def ggT(a, b):\n",
    "    while b != 0:\n",
    "        c = a % b\n",
    "        a = b\n",
    "        b = c\n",
    "    return a\n",
    "\n",
    "\n",
    "class Bruch:\n",
    "\n",
    "    def __init__(self, zaehler, nenner):\n",
    "        g = ggT(zaehler, nenner)\n",
    "        self.zaehler = int(zaehler/g)\n",
    "        self.nenner = int(nenner/g)\n",
    "\n",
    "    def __str__(self):\n",
    "        return f\"{self.zaehler}/{self.nenner}\"\n",
    "\n",
    "    def addieren(self, other):\n",
    "        zaehler_summer = self.zaehler*other.nenner+other.zaehler*self.nenner\n",
    "        nenner_summe = self.nenner * other.nenner\n",
    "        return Bruch(zaehler_summer, nenner_summe)\n",
    "\n",
    "    def subtrahieren(self, other):\n",
    "        zaehler_diff = self.zaehler*other.nenner-other.zaehler*self.nenner\n",
    "        nenner_diff = self.nenner * other.nenner\n",
    "        return Bruch(zaehler_diff, nenner_diff)\n",
    "\n",
    "    def multiplizieren(self, other):\n",
    "        zaehler_prod = self.zaehler*other.zaehler\n",
    "        nenner_prod = self.nenner*other.nenner\n",
    "        return Bruch(zaehler_prod, nenner_prod)\n",
    "\n",
    "    def dividieren(self, other):\n",
    "        zaehler_quot = self.zaehler*other.nenner\n",
    "        nenner_quot = self.nenner*other.zaehler\n",
    "        return Bruch(zaehler_quot, nenner_quot)\n",
    "\n",
    "\n",
    "b = Bruch(5, 6)\n",
    "c = Bruch(1, 3)\n",
    "print(b.subtrahieren(c))\n",
    "print(b.multiplizieren(c))\n",
    "print(b.dividieren(c))"
   ]
  }
 ],
 "metadata": {
  "language_info": {
   "name": "python"
  },
  "orig_nbformat": 4
 },
 "nbformat": 4,
 "nbformat_minor": 2
}
